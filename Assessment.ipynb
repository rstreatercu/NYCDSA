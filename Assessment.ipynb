{
 "cells": [
  {
   "cell_type": "code",
   "execution_count": 1,
   "id": "67c4ae68",
   "metadata": {},
   "outputs": [],
   "source": [
    "import numpy as np"
   ]
  },
  {
   "attachments": {},
   "cell_type": "markdown",
   "id": "f08177ad",
   "metadata": {},
   "source": [
    "# Problem 1\n",
    "The true perimeter of the lake is not correctly captured by a zoomed-out view because by doing so, you are assuming that the lake shore is smooth and does not have bends and folds, when in fact it does. I've seen a really helpful demonstration of the flaws in assuming that a densely folded object has the same perimeter as a smoothed approximation (source: http://joyreactor.com/post/285895):\n",
    "\n",
    "<img src=\"circle.jpeg\">\n",
    "\n",
    "This issue also brings to mind signal aliasing, which I learned about while working in optics/imaging as an undergraduate. Signal aliasing occurs when a waveform is sampled at a much lower rate than the waveform frequency, so a rapidly oscillating signal appears to be smooth (source: https://zone.ni.com/reference/en-XX/help/371361R-01/lvanlsconcepts/aliasing/):\n",
    "\n",
    "<img src=\"guide.png\">\n",
    "\n",
    "To properly sample an underlying curve, the sampling rate has to be twice the frequency of the waveform. This is called the \"Nyquist limit\". While we are not dealing with sinusoidal functions in the case of the perimeter, the effect is similar in that the location of the coast rapidly fluctuates at a higher frequency than the size represented by a pixel on the zoomed out image.\n",
    "\n",
    "In solving this problem, we have to consider what is practical in terms of measuring coastline for the purposes of dividing it amongst property owners. A property owner would not, for example, care if the rocks on the lakefront are mossy or not. At a cellular scale, there would be a great deal of perimeter involved that would have no bearing on the use of the lakefront. Therefore, I would define a minimum lengthscale at which measuring oscillations is meaningful. I would probably set this at 1 meter. Below 1 meter, any features will be the size of rocks, and probably won't be useful for building a dock, fishing, etc. I would therefore sample the image at 0.5 meter pixel size (the Nyquist limit for a 1 meter wavelength). I would use the difference in color between lake and land to fit a smooth curve to the pixel data, and would use the length of this curve to define the lake perimeter.\n"
   ]
  },
  {
   "cell_type": "markdown",
   "id": "799552a0",
   "metadata": {},
   "source": [
    "# Problem 2"
   ]
  },
  {
   "cell_type": "code",
   "execution_count": 2,
   "id": "def8dd05",
   "metadata": {},
   "outputs": [
    {
     "name": "stdout",
     "output_type": "stream",
     "text": [
      "{'Alice': 100, 'Bob': 120, 'Celia': 110}\n"
     ]
    }
   ],
   "source": [
    "# Example input\n",
    "day_i = [\"Bob:100\", \"Alice:100\", \"Celia:110\", \"Bob:20\"]\n",
    "def purchase_summary(input):\n",
    "    output = {}\n",
    "    for entry in sorted(input):\n",
    "        spl = entry.split(\":\")\n",
    "        # Add value if key already exists; otherwise, set to value\n",
    "        output[spl[0]] = output.get(spl[0], 0) + int(spl[1])\n",
    "    return output\n",
    "print(purchase_summary(day_i))"
   ]
  },
  {
   "cell_type": "markdown",
   "id": "85ad0e63",
   "metadata": {},
   "source": [
    "# Problem 3"
   ]
  },
  {
   "cell_type": "code",
   "execution_count": 3,
   "id": "577295ac",
   "metadata": {},
   "outputs": [
    {
     "name": "stdout",
     "output_type": "stream",
     "text": [
      "What is the lower bound? 3\n",
      "What is the upper bound? 20\n",
      "Is 11 your number? ('y' or 'n'): n\n",
      "Is your number less than 11? ('y' or 'n'): y\n",
      "Is 6 your number? ('y' or 'n'): n\n",
      "Is your number less than 6? ('y' or 'n'): n\n",
      "Is 8 your number? ('y' or 'n'): n\n",
      "Is your number less than 8? ('y' or 'n'): n\n",
      "Is 9 your number? ('y' or 'n'): n\n",
      "Your number is 10\n"
     ]
    }
   ],
   "source": [
    "# Problem 3\n",
    "def print_num(num):\n",
    "        print(\"Your number is {:d}\".format(num))\n",
    "def play_number_guessing():\n",
    "    # Add a few checks on user input so that the game won't continue upon bad values\n",
    "    try:\n",
    "        lower = int(input(\"What is the lower bound? \"))\n",
    "        upper = int(input(\"What is the upper bound? \"))\n",
    "    except:\n",
    "        print(\"Error- bad bounds.\")\n",
    "        return\n",
    "    if upper<lower:\n",
    "        print(\"Error- bad bounds where upper<lower.\")\n",
    "        return\n",
    "    # Continue the guessing cycle until guessing correctly and breaking out\n",
    "    while True:\n",
    "        # If we only have one number in range, that will be the correct guess\n",
    "        if (upper-lower)==0:\n",
    "            print_num(lower)\n",
    "            break\n",
    "        # Guess in the middle of the two values- use floor to arbitrarily split even ranges\n",
    "        guess = int(np.floor((upper-lower)/2)+lower)\n",
    "        correct = ''\n",
    "        while correct != 'y' and correct != 'n':\n",
    "            correct = input(\"Is {:d} your number? ('y' or 'n'): \".format(guess))\n",
    "        if correct == 'y':\n",
    "            print_num(guess)\n",
    "            break\n",
    "        else:\n",
    "            # If we only have two numbers, we automatically know it is the one not guessed\n",
    "            if upper-lower == 1:\n",
    "                if guess == lower:\n",
    "                    print_num(upper)\n",
    "                else:\n",
    "                    print_num(lower)\n",
    "                break\n",
    "            guess_high = ''\n",
    "            # Determine whether the guess is higher than true number\n",
    "            while guess_high != 'y' and guess_high != 'n':\n",
    "                guess_high = input(\"Is your number less than {:d}? ('y' or 'n'): \".format(guess))\n",
    "            # Bounds are inclusive, and we know guess is false, so set to guess+-1\n",
    "            if guess_high == 'y':\n",
    "                upper = guess-1\n",
    "            else:\n",
    "                lower = guess+1\n",
    "    return\n",
    "play_number_guessing()"
   ]
  },
  {
   "cell_type": "markdown",
   "id": "866f891f",
   "metadata": {},
   "source": [
    "# Problem 4\n",
    "I chose to watch Unsupervised Machine Learning Python. The following aspects matched with my learning style:\n",
    "- I liked how the professor demonstrated the \"curse of dimensionality\" with the three different dimensional images. I find it helpful when a professor proves/shows a concept that they are teaching instead of just telling us that it is true, because this feels more sound and helps me remember the concept better. I really liked the simple demonstration of how the data became more sparse.\n",
    "- I really liked the \"toy model\" of data in two dimensions and the way he showed how one dimension exhibited a larger range of data. I learn really well by coding and creating simulations, and seeing this toy model helped me think about how I might program the PCA in real life.\n",
    "- I enjoyed the geometric demonstration of PCA and the way that he showed the orthogonal projections on the different axes. I like geometry a lot and learn well from geometric proofs and arguments. It is especially helpful when a professor uses a 3D geometry to demonstrate abstract linear algebra concepts like he did here.\n",
    "\n",
    "For a suggestion, I think it might help to motivate some of the concepts more while defining them. It may be because I haven't watched the previous lectures, but I struggled a little with following the lecture before reaching the visual demonstrations. After that, I understood it much better. I think more focus on the big picture in the beginning could have helped."
   ]
  },
  {
   "cell_type": "code",
   "execution_count": null,
   "id": "9c45cf89",
   "metadata": {},
   "outputs": [],
   "source": []
  }
 ],
 "metadata": {
  "kernelspec": {
   "display_name": "Python 3",
   "language": "python",
   "name": "python3"
  },
  "language_info": {
   "codemirror_mode": {
    "name": "ipython",
    "version": 3
   },
   "file_extension": ".py",
   "mimetype": "text/x-python",
   "name": "python",
   "nbconvert_exporter": "python",
   "pygments_lexer": "ipython3",
   "version": "3.7.3"
  }
 },
 "nbformat": 4,
 "nbformat_minor": 5
}
